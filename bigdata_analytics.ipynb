{
  "cells": [
    {
      "metadata": {
        "trusted": true
      },
      "cell_type": "code",
      "source": "!pip install pyspark",
      "execution_count": 1,
      "outputs": [
        {
          "output_type": "stream",
          "text": "Requirement already satisfied: pyspark in /home/nbuser/anaconda3_501/lib/python3.6/site-packages (2.4.3)\r\nRequirement already satisfied: py4j==0.10.7 in /home/nbuser/anaconda3_501/lib/python3.6/site-packages (from pyspark) (0.10.7)\r\n",
          "name": "stdout"
        }
      ]
    },
    {
      "metadata": {
        "trusted": true
      },
      "cell_type": "code",
      "source": "from pyspark.sql import SparkSession\nfrom pyspark.sql.functions import *\nfrom pyspark.sql.types import *\nimport pandas as pd",
      "execution_count": 42,
      "outputs": []
    },
    {
      "metadata": {
        "trusted": true
      },
      "cell_type": "code",
      "source": "spark = SparkSession.builder.appName(name=\"MSA Phase 1 Assignment Analytics\").master(\"local[*]\").getOrCreate().newSession()\nspark",
      "execution_count": 52,
      "outputs": [
        {
          "output_type": "execute_result",
          "execution_count": 52,
          "data": {
            "text/html": "\n            <div>\n                <p><b>SparkSession - in-memory</b></p>\n                \n        <div>\n            <p><b>SparkContext</b></p>\n\n            <p><a href=\"http://10.36.32.169:4040\">Spark UI</a></p>\n\n            <dl>\n              <dt>Version</dt>\n                <dd><code>v2.4.3</code></dd>\n              <dt>Master</dt>\n                <dd><code>local[*]</code></dd>\n              <dt>AppName</dt>\n                <dd><code>MSA Phase 1 Assignment Analytics</code></dd>\n            </dl>\n        </div>\n        \n            </div>\n        ",
            "text/plain": "<pyspark.sql.session.SparkSession at 0x7f8940d1bbe0>"
          },
          "metadata": {}
        }
      ]
    },
    {
      "metadata": {
        "trusted": true
      },
      "cell_type": "code",
      "source": "#at this point the raw data is uploaded\n#the data used is the anime recommendations dataset found here https://www.kaggle.com/CooperUnion/anime-recommendations-database\n!ls",
      "execution_count": 5,
      "outputs": [
        {
          "output_type": "stream",
          "text": "anime.csv  bigdata_analytics.ipynb  README.md\r\n",
          "name": "stdout"
        }
      ]
    },
    {
      "metadata": {
        "trusted": true
      },
      "cell_type": "code",
      "source": "# Read in the anime csv and store it into a dataframe.\nanime = pd.read_csv(\"anime.csv\")",
      "execution_count": 102,
      "outputs": []
    },
    {
      "metadata": {
        "trusted": true
      },
      "cell_type": "code",
      "source": "anime.head(10)",
      "execution_count": 103,
      "outputs": [
        {
          "output_type": "execute_result",
          "execution_count": 103,
          "data": {
            "text/html": "<div>\n<style scoped>\n    .dataframe tbody tr th:only-of-type {\n        vertical-align: middle;\n    }\n\n    .dataframe tbody tr th {\n        vertical-align: top;\n    }\n\n    .dataframe thead th {\n        text-align: right;\n    }\n</style>\n<table border=\"1\" class=\"dataframe\">\n  <thead>\n    <tr style=\"text-align: right;\">\n      <th></th>\n      <th>anime_id</th>\n      <th>name</th>\n      <th>genre</th>\n      <th>type</th>\n      <th>episodes</th>\n      <th>rating</th>\n      <th>members</th>\n    </tr>\n  </thead>\n  <tbody>\n    <tr>\n      <th>0</th>\n      <td>32281</td>\n      <td>Kimi no Na wa.</td>\n      <td>Drama, Romance, School, Supernatural</td>\n      <td>Movie</td>\n      <td>1</td>\n      <td>9.37</td>\n      <td>200630</td>\n    </tr>\n    <tr>\n      <th>1</th>\n      <td>5114</td>\n      <td>Fullmetal Alchemist: Brotherhood</td>\n      <td>Action, Adventure, Drama, Fantasy, Magic, Mili...</td>\n      <td>TV</td>\n      <td>64</td>\n      <td>9.26</td>\n      <td>793665</td>\n    </tr>\n    <tr>\n      <th>2</th>\n      <td>28977</td>\n      <td>Gintama°</td>\n      <td>Action, Comedy, Historical, Parody, Samurai, S...</td>\n      <td>TV</td>\n      <td>51</td>\n      <td>9.25</td>\n      <td>114262</td>\n    </tr>\n    <tr>\n      <th>3</th>\n      <td>9253</td>\n      <td>Steins;Gate</td>\n      <td>Sci-Fi, Thriller</td>\n      <td>TV</td>\n      <td>24</td>\n      <td>9.17</td>\n      <td>673572</td>\n    </tr>\n    <tr>\n      <th>4</th>\n      <td>9969</td>\n      <td>Gintama&amp;#039;</td>\n      <td>Action, Comedy, Historical, Parody, Samurai, S...</td>\n      <td>TV</td>\n      <td>51</td>\n      <td>9.16</td>\n      <td>151266</td>\n    </tr>\n    <tr>\n      <th>5</th>\n      <td>32935</td>\n      <td>Haikyuu!!: Karasuno Koukou VS Shiratorizawa Ga...</td>\n      <td>Comedy, Drama, School, Shounen, Sports</td>\n      <td>TV</td>\n      <td>10</td>\n      <td>9.15</td>\n      <td>93351</td>\n    </tr>\n    <tr>\n      <th>6</th>\n      <td>11061</td>\n      <td>Hunter x Hunter (2011)</td>\n      <td>Action, Adventure, Shounen, Super Power</td>\n      <td>TV</td>\n      <td>148</td>\n      <td>9.13</td>\n      <td>425855</td>\n    </tr>\n    <tr>\n      <th>7</th>\n      <td>820</td>\n      <td>Ginga Eiyuu Densetsu</td>\n      <td>Drama, Military, Sci-Fi, Space</td>\n      <td>OVA</td>\n      <td>110</td>\n      <td>9.11</td>\n      <td>80679</td>\n    </tr>\n    <tr>\n      <th>8</th>\n      <td>15335</td>\n      <td>Gintama Movie: Kanketsu-hen - Yorozuya yo Eien...</td>\n      <td>Action, Comedy, Historical, Parody, Samurai, S...</td>\n      <td>Movie</td>\n      <td>1</td>\n      <td>9.10</td>\n      <td>72534</td>\n    </tr>\n    <tr>\n      <th>9</th>\n      <td>15417</td>\n      <td>Gintama&amp;#039;: Enchousen</td>\n      <td>Action, Comedy, Historical, Parody, Samurai, S...</td>\n      <td>TV</td>\n      <td>13</td>\n      <td>9.11</td>\n      <td>81109</td>\n    </tr>\n  </tbody>\n</table>\n</div>",
            "text/plain": "   anime_id                                               name  \\\n0     32281                                     Kimi no Na wa.   \n1      5114                   Fullmetal Alchemist: Brotherhood   \n2     28977                                           Gintama°   \n3      9253                                        Steins;Gate   \n4      9969                                      Gintama&#039;   \n5     32935  Haikyuu!!: Karasuno Koukou VS Shiratorizawa Ga...   \n6     11061                             Hunter x Hunter (2011)   \n7       820                               Ginga Eiyuu Densetsu   \n8     15335  Gintama Movie: Kanketsu-hen - Yorozuya yo Eien...   \n9     15417                           Gintama&#039;: Enchousen   \n\n                                               genre   type episodes  rating  \\\n0               Drama, Romance, School, Supernatural  Movie        1    9.37   \n1  Action, Adventure, Drama, Fantasy, Magic, Mili...     TV       64    9.26   \n2  Action, Comedy, Historical, Parody, Samurai, S...     TV       51    9.25   \n3                                   Sci-Fi, Thriller     TV       24    9.17   \n4  Action, Comedy, Historical, Parody, Samurai, S...     TV       51    9.16   \n5             Comedy, Drama, School, Shounen, Sports     TV       10    9.15   \n6            Action, Adventure, Shounen, Super Power     TV      148    9.13   \n7                     Drama, Military, Sci-Fi, Space    OVA      110    9.11   \n8  Action, Comedy, Historical, Parody, Samurai, S...  Movie        1    9.10   \n9  Action, Comedy, Historical, Parody, Samurai, S...     TV       13    9.11   \n\n   members  \n0   200630  \n1   793665  \n2   114262  \n3   673572  \n4   151266  \n5    93351  \n6   425855  \n7    80679  \n8    72534  \n9    81109  "
          },
          "metadata": {}
        }
      ]
    },
    {
      "metadata": {
        "trusted": true
      },
      "cell_type": "code",
      "source": "anime.count()",
      "execution_count": 104,
      "outputs": [
        {
          "output_type": "execute_result",
          "execution_count": 104,
          "data": {
            "text/plain": "anime_id    12294\nname        12294\ngenre       12232\ntype        12269\nepisodes    12294\nrating      12064\nmembers     12294\ndtype: int64"
          },
          "metadata": {}
        }
      ]
    },
    {
      "metadata": {
        "trusted": true
      },
      "cell_type": "code",
      "source": "anime = anime.dropna()\nanime.count()",
      "execution_count": 105,
      "outputs": [
        {
          "output_type": "execute_result",
          "execution_count": 105,
          "data": {
            "text/plain": "anime_id    12017\nname        12017\ngenre       12017\ntype        12017\nepisodes    12017\nrating      12017\nmembers     12017\ndtype: int64"
          },
          "metadata": {}
        }
      ]
    },
    {
      "metadata": {
        "trusted": true
      },
      "cell_type": "code",
      "source": "anime = anime.drop(['episodes'], axis = 1)",
      "execution_count": 106,
      "outputs": []
    },
    {
      "metadata": {
        "trusted": true
      },
      "cell_type": "code",
      "source": "anime.head()",
      "execution_count": 107,
      "outputs": [
        {
          "output_type": "execute_result",
          "execution_count": 107,
          "data": {
            "text/html": "<div>\n<style scoped>\n    .dataframe tbody tr th:only-of-type {\n        vertical-align: middle;\n    }\n\n    .dataframe tbody tr th {\n        vertical-align: top;\n    }\n\n    .dataframe thead th {\n        text-align: right;\n    }\n</style>\n<table border=\"1\" class=\"dataframe\">\n  <thead>\n    <tr style=\"text-align: right;\">\n      <th></th>\n      <th>anime_id</th>\n      <th>name</th>\n      <th>genre</th>\n      <th>type</th>\n      <th>rating</th>\n      <th>members</th>\n    </tr>\n  </thead>\n  <tbody>\n    <tr>\n      <th>0</th>\n      <td>32281</td>\n      <td>Kimi no Na wa.</td>\n      <td>Drama, Romance, School, Supernatural</td>\n      <td>Movie</td>\n      <td>9.37</td>\n      <td>200630</td>\n    </tr>\n    <tr>\n      <th>1</th>\n      <td>5114</td>\n      <td>Fullmetal Alchemist: Brotherhood</td>\n      <td>Action, Adventure, Drama, Fantasy, Magic, Mili...</td>\n      <td>TV</td>\n      <td>9.26</td>\n      <td>793665</td>\n    </tr>\n    <tr>\n      <th>2</th>\n      <td>28977</td>\n      <td>Gintama°</td>\n      <td>Action, Comedy, Historical, Parody, Samurai, S...</td>\n      <td>TV</td>\n      <td>9.25</td>\n      <td>114262</td>\n    </tr>\n    <tr>\n      <th>3</th>\n      <td>9253</td>\n      <td>Steins;Gate</td>\n      <td>Sci-Fi, Thriller</td>\n      <td>TV</td>\n      <td>9.17</td>\n      <td>673572</td>\n    </tr>\n    <tr>\n      <th>4</th>\n      <td>9969</td>\n      <td>Gintama&amp;#039;</td>\n      <td>Action, Comedy, Historical, Parody, Samurai, S...</td>\n      <td>TV</td>\n      <td>9.16</td>\n      <td>151266</td>\n    </tr>\n  </tbody>\n</table>\n</div>",
            "text/plain": "   anime_id                              name  \\\n0     32281                    Kimi no Na wa.   \n1      5114  Fullmetal Alchemist: Brotherhood   \n2     28977                          Gintama°   \n3      9253                       Steins;Gate   \n4      9969                     Gintama&#039;   \n\n                                               genre   type  rating  members  \n0               Drama, Romance, School, Supernatural  Movie    9.37   200630  \n1  Action, Adventure, Drama, Fantasy, Magic, Mili...     TV    9.26   793665  \n2  Action, Comedy, Historical, Parody, Samurai, S...     TV    9.25   114262  \n3                                   Sci-Fi, Thriller     TV    9.17   673572  \n4  Action, Comedy, Historical, Parody, Samurai, S...     TV    9.16   151266  "
          },
          "metadata": {}
        }
      ]
    },
    {
      "metadata": {
        "trusted": true
      },
      "cell_type": "code",
      "source": "import numpy as np\nfrom itertools import chain",
      "execution_count": 108,
      "outputs": []
    },
    {
      "metadata": {
        "trusted": true
      },
      "cell_type": "code",
      "source": "# return list from series of comma-separated strings\ndef chainer(s):\n    return list(chain.from_iterable(s.str.split(',')))\n\n# calculate lengths of splits\nlens = anime['genre'].str.split(',').map(len)",
      "execution_count": 109,
      "outputs": []
    },
    {
      "metadata": {
        "trusted": true
      },
      "cell_type": "code",
      "source": "# create new dataframe, repeating or chaining as appropriate\nanime_df = pd.DataFrame({'anime_id': np.repeat(anime['anime_id'], lens),\n                    'name': np.repeat(anime['name'], lens),\n                    'genre': chainer(anime['genre']),\n                    'type': np.repeat(anime['type'], lens),\n                    'rating': np.repeat(anime['rating'], lens),\n                    'members': np.repeat(anime['members'], lens)})",
      "execution_count": 110,
      "outputs": []
    },
    {
      "metadata": {
        "trusted": true
      },
      "cell_type": "code",
      "source": "anime_df.head()",
      "execution_count": 111,
      "outputs": [
        {
          "output_type": "execute_result",
          "execution_count": 111,
          "data": {
            "text/html": "<div>\n<style scoped>\n    .dataframe tbody tr th:only-of-type {\n        vertical-align: middle;\n    }\n\n    .dataframe tbody tr th {\n        vertical-align: top;\n    }\n\n    .dataframe thead th {\n        text-align: right;\n    }\n</style>\n<table border=\"1\" class=\"dataframe\">\n  <thead>\n    <tr style=\"text-align: right;\">\n      <th></th>\n      <th>anime_id</th>\n      <th>name</th>\n      <th>genre</th>\n      <th>type</th>\n      <th>rating</th>\n      <th>members</th>\n    </tr>\n  </thead>\n  <tbody>\n    <tr>\n      <th>0</th>\n      <td>32281</td>\n      <td>Kimi no Na wa.</td>\n      <td>Drama</td>\n      <td>Movie</td>\n      <td>9.37</td>\n      <td>200630</td>\n    </tr>\n    <tr>\n      <th>0</th>\n      <td>32281</td>\n      <td>Kimi no Na wa.</td>\n      <td>Romance</td>\n      <td>Movie</td>\n      <td>9.37</td>\n      <td>200630</td>\n    </tr>\n    <tr>\n      <th>0</th>\n      <td>32281</td>\n      <td>Kimi no Na wa.</td>\n      <td>School</td>\n      <td>Movie</td>\n      <td>9.37</td>\n      <td>200630</td>\n    </tr>\n    <tr>\n      <th>0</th>\n      <td>32281</td>\n      <td>Kimi no Na wa.</td>\n      <td>Supernatural</td>\n      <td>Movie</td>\n      <td>9.37</td>\n      <td>200630</td>\n    </tr>\n    <tr>\n      <th>1</th>\n      <td>5114</td>\n      <td>Fullmetal Alchemist: Brotherhood</td>\n      <td>Action</td>\n      <td>TV</td>\n      <td>9.26</td>\n      <td>793665</td>\n    </tr>\n  </tbody>\n</table>\n</div>",
            "text/plain": "   anime_id                              name          genre   type  rating  \\\n0     32281                    Kimi no Na wa.          Drama  Movie    9.37   \n0     32281                    Kimi no Na wa.        Romance  Movie    9.37   \n0     32281                    Kimi no Na wa.         School  Movie    9.37   \n0     32281                    Kimi no Na wa.   Supernatural  Movie    9.37   \n1      5114  Fullmetal Alchemist: Brotherhood         Action     TV    9.26   \n\n   members  \n0   200630  \n0   200630  \n0   200630  \n0   200630  \n1   793665  "
          },
          "metadata": {}
        }
      ]
    },
    {
      "metadata": {
        "trusted": true
      },
      "cell_type": "code",
      "source": "anime_genres = anime_df.drop(['name','type','rating','members'], axis = 1)\nanime_type = anime_df.drop(['name','genre','rating','members'], axis = 1)",
      "execution_count": 112,
      "outputs": []
    },
    {
      "metadata": {
        "trusted": true
      },
      "cell_type": "code",
      "source": "anime_genres.head()",
      "execution_count": 113,
      "outputs": [
        {
          "output_type": "execute_result",
          "execution_count": 113,
          "data": {
            "text/html": "<div>\n<style scoped>\n    .dataframe tbody tr th:only-of-type {\n        vertical-align: middle;\n    }\n\n    .dataframe tbody tr th {\n        vertical-align: top;\n    }\n\n    .dataframe thead th {\n        text-align: right;\n    }\n</style>\n<table border=\"1\" class=\"dataframe\">\n  <thead>\n    <tr style=\"text-align: right;\">\n      <th></th>\n      <th>anime_id</th>\n      <th>genre</th>\n    </tr>\n  </thead>\n  <tbody>\n    <tr>\n      <th>0</th>\n      <td>32281</td>\n      <td>Drama</td>\n    </tr>\n    <tr>\n      <th>0</th>\n      <td>32281</td>\n      <td>Romance</td>\n    </tr>\n    <tr>\n      <th>0</th>\n      <td>32281</td>\n      <td>School</td>\n    </tr>\n    <tr>\n      <th>0</th>\n      <td>32281</td>\n      <td>Supernatural</td>\n    </tr>\n    <tr>\n      <th>1</th>\n      <td>5114</td>\n      <td>Action</td>\n    </tr>\n  </tbody>\n</table>\n</div>",
            "text/plain": "   anime_id          genre\n0     32281          Drama\n0     32281        Romance\n0     32281         School\n0     32281   Supernatural\n1      5114         Action"
          },
          "metadata": {}
        }
      ]
    },
    {
      "metadata": {
        "trusted": true
      },
      "cell_type": "code",
      "source": "anime_type.head()",
      "execution_count": 114,
      "outputs": [
        {
          "output_type": "execute_result",
          "execution_count": 114,
          "data": {
            "text/html": "<div>\n<style scoped>\n    .dataframe tbody tr th:only-of-type {\n        vertical-align: middle;\n    }\n\n    .dataframe tbody tr th {\n        vertical-align: top;\n    }\n\n    .dataframe thead th {\n        text-align: right;\n    }\n</style>\n<table border=\"1\" class=\"dataframe\">\n  <thead>\n    <tr style=\"text-align: right;\">\n      <th></th>\n      <th>anime_id</th>\n      <th>type</th>\n    </tr>\n  </thead>\n  <tbody>\n    <tr>\n      <th>0</th>\n      <td>32281</td>\n      <td>Movie</td>\n    </tr>\n    <tr>\n      <th>0</th>\n      <td>32281</td>\n      <td>Movie</td>\n    </tr>\n    <tr>\n      <th>0</th>\n      <td>32281</td>\n      <td>Movie</td>\n    </tr>\n    <tr>\n      <th>0</th>\n      <td>32281</td>\n      <td>Movie</td>\n    </tr>\n    <tr>\n      <th>1</th>\n      <td>5114</td>\n      <td>TV</td>\n    </tr>\n  </tbody>\n</table>\n</div>",
            "text/plain": "   anime_id   type\n0     32281  Movie\n0     32281  Movie\n0     32281  Movie\n0     32281  Movie\n1      5114     TV"
          },
          "metadata": {}
        }
      ]
    },
    {
      "metadata": {
        "trusted": true
      },
      "cell_type": "code",
      "source": "anime.to_csv('clean_anime.csv')\nanime_genres.to_csv('anime_genres.csv')\nanime_type.to_csv('anime_type.csv')",
      "execution_count": 116,
      "outputs": []
    },
    {
      "metadata": {
        "trusted": true
      },
      "cell_type": "code",
      "source": "",
      "execution_count": null,
      "outputs": []
    }
  ],
  "metadata": {
    "kernelspec": {
      "name": "python36",
      "display_name": "Python 3.6",
      "language": "python"
    },
    "language_info": {
      "mimetype": "text/x-python",
      "nbconvert_exporter": "python",
      "name": "python",
      "pygments_lexer": "ipython3",
      "version": "3.6.6",
      "file_extension": ".py",
      "codemirror_mode": {
        "version": 3,
        "name": "ipython"
      }
    }
  },
  "nbformat": 4,
  "nbformat_minor": 2
}